{
 "cells": [
  {
   "cell_type": "code",
   "execution_count": 5,
   "id": "initial_id",
   "metadata": {
    "collapsed": true,
    "ExecuteTime": {
     "end_time": "2023-08-07T10:54:34.129669Z",
     "start_time": "2023-08-07T10:54:34.127946Z"
    }
   },
   "outputs": [],
   "source": [
    "import sqlite3\n",
    "import pandas as pd"
   ]
  },
  {
   "cell_type": "code",
   "execution_count": 3,
   "outputs": [],
   "source": [
    "with sqlite3.connect('surge.db') as conn:\n",
    "    c = conn.cursor()\n",
    "    c.execute('select data from requests')\n",
    "    data = c.fetchall()"
   ],
   "metadata": {
    "collapsed": false,
    "ExecuteTime": {
     "end_time": "2023-08-07T10:54:08.120381Z",
     "start_time": "2023-08-07T10:54:02.810846Z"
    }
   },
   "id": "9db1f91ff132cbf3"
  },
  {
   "cell_type": "code",
   "execution_count": 10,
   "outputs": [
    {
     "data": {
      "text/plain": "  0%|          | 0/597328 [00:00<?, ?it/s]",
      "application/vnd.jupyter.widget-view+json": {
       "version_major": 2,
       "version_minor": 0,
       "model_id": "7ea8a492c0f44ee28e28d764c2a3d095"
      }
     },
     "metadata": {},
     "output_type": "display_data"
    }
   ],
   "source": [
    "import json\n",
    "from collections import defaultdict\n",
    "from tqdm.auto import tqdm\n",
    "\n",
    "keys = defaultdict(set)\n",
    "for one in tqdm(data):\n",
    "    for k, v in json.loads(one[0]).items():\n",
    "        keys[k].add(type(v))"
   ],
   "metadata": {
    "collapsed": false,
    "ExecuteTime": {
     "end_time": "2023-08-07T10:56:54.661245Z",
     "start_time": "2023-08-07T10:56:47.393432Z"
    }
   },
   "id": "9b2f7b0801bd53d5"
  },
  {
   "cell_type": "code",
   "execution_count": 11,
   "outputs": [
    {
     "data": {
      "text/plain": "defaultdict(set,\n            {'id': {int},\n             'inMaxSpeed': {int},\n             'proxyMode': {bool},\n             'notes': {list},\n             'inCurrentSpeed': {int},\n             'failed': {bool},\n             'status': {str},\n             'outCurrentSpeed': {int},\n             'completed': {bool},\n             'sourcePort': {int},\n             'completedDate': {float, int},\n             'outBytes': {int},\n             'sourceAddress': {str},\n             'remoteClientPhysicalAddress': {str},\n             'policyName': {str},\n             'inBytes': {int},\n             'method': {str},\n             'pid': {int},\n             'replica': {bool},\n             'rule': {str},\n             'startDate': {float, int},\n             'streamHasResponseBody': {bool},\n             'setupCompletedDate': {float, int},\n             'URL': {str},\n             'outMaxSpeed': {int},\n             'modified': {bool},\n             'engineIdentifier': {int},\n             'rejected': {bool},\n             'timingRecords': {list},\n             'streamHasRequestBody': {bool},\n             'remoteAddress': {str},\n             'interface': {str},\n             'localAddress': {str},\n             'responseHeader': {str},\n             'requestHeader': {str},\n             'remark': {str},\n             'deviceName': {str},\n             'processPath': {str}})"
     },
     "execution_count": 11,
     "metadata": {},
     "output_type": "execute_result"
    }
   ],
   "source": [
    "keys"
   ],
   "metadata": {
    "collapsed": false,
    "ExecuteTime": {
     "end_time": "2023-08-07T10:57:00.257616Z",
     "start_time": "2023-08-07T10:57:00.252257Z"
    }
   },
   "id": "27ff4497ea381ce"
  },
  {
   "cell_type": "code",
   "execution_count": 19,
   "outputs": [],
   "source": [
    "with sqlite3.connect('surge.db') as conn:\n",
    "    sql_query = '''\n",
    "    select\n",
    "        json_extract(data, '$.sourceAddress') as sourceAddress,\n",
    "        json_extract(data, '$.remoteClientPhysicalAddress') as remoteClientPhysicalAddress,\n",
    "        json_extract(data, '$.policyName') as policyName,\n",
    "        json_extract(data, '$.status') as status,\n",
    "        json_extract(data, '$.startDate') as startDate,\n",
    "        json_extract(data, '$.completedDate') as completedDate,\n",
    "        json_extract(data, '$.URL') as url,\n",
    "        json_extract(data, '$.inBytes') as inBytes,\n",
    "        json_extract(data, '$.outBytes') as outBytes,\n",
    "        json_extract(data, '$.inMaxSpeed') as inMaxSpeed,\n",
    "        json_extract(data, '$.outMaxSpeed') as outMaxSpeed\n",
    "    from requests\n",
    "    where policyName != 'DIRECT'\n",
    "    '''\n",
    "    df = pd.read_sql_query(sql_query, conn)"
   ],
   "metadata": {
    "collapsed": false,
    "ExecuteTime": {
     "end_time": "2023-08-07T06:22:25.954308Z",
     "start_time": "2023-08-07T06:22:24.495793Z"
    }
   },
   "id": "554ec302d4c7147f"
  },
  {
   "cell_type": "code",
   "execution_count": 20,
   "outputs": [],
   "source": [
    "df['total_MiB'] = (df['inBytes'] + df['outBytes']) / 1024 / 1024"
   ],
   "metadata": {
    "collapsed": false,
    "ExecuteTime": {
     "end_time": "2023-08-07T06:22:25.957751Z",
     "start_time": "2023-08-07T06:22:25.957433Z"
    }
   },
   "id": "f770a38a0bd53a5a"
  },
  {
   "cell_type": "code",
   "execution_count": 21,
   "outputs": [
    {
     "data": {
      "text/plain": "sourceAddress  url                           policyName       \n192.168.5.210  cdn.staging.boolv.video:443   🇭🇰 Hong Kong 06      5823.464231\n192.168.5.58   images.pexels.com:443         🇭🇰 Hong Kong 06      1409.414956\n192.168.5.72   gateway-pre.boolv.tech:443    🇭🇰 Hong Kong 06      1077.854662\n192.168.5.214  v1.pinimg.com:443             🇭🇰 Hong Kong 06       355.431819\n192.168.5.72   cms-artifacts.artlist.io:443  🇭🇰 Hong Kong 06       290.864006\n                                                                     ...     \n192.168.5.203  104.193.88.123:80             🇺🇸 USA Seattle 02       0.000000\n               104.193.88.77:80              🇺🇸 USA Seattle 02       0.000000\n192.168.5.52   101.32.104.226:443            🇭🇰 Hong Kong 06         0.000000\n192.168.5.214  www.projectbaseline.com:80    🇭🇰 Hong Kong 06         0.000000\n192.168.5.77   8.8.8.8:65535 (Port Map)      🇭🇰 Hong Kong 06         0.000000\nName: total_MiB, Length: 4985, dtype: float64"
     },
     "execution_count": 21,
     "metadata": {},
     "output_type": "execute_result"
    }
   ],
   "source": [
    "df.groupby(['sourceAddress', 'url', 'policyName'])['total_MiB'].sum().sort_values(ascending=False)"
   ],
   "metadata": {
    "collapsed": false,
    "ExecuteTime": {
     "end_time": "2023-08-07T06:22:25.977431Z",
     "start_time": "2023-08-07T06:22:25.959545Z"
    }
   },
   "id": "7a5d2b1cf958d310"
  },
  {
   "cell_type": "code",
   "execution_count": null,
   "outputs": [],
   "source": [],
   "metadata": {
    "collapsed": false
   },
   "id": "391fa30cc408fc1f"
  }
 ],
 "metadata": {
  "kernelspec": {
   "display_name": "Python 3",
   "language": "python",
   "name": "python3"
  },
  "language_info": {
   "codemirror_mode": {
    "name": "ipython",
    "version": 2
   },
   "file_extension": ".py",
   "mimetype": "text/x-python",
   "name": "python",
   "nbconvert_exporter": "python",
   "pygments_lexer": "ipython2",
   "version": "2.7.6"
  }
 },
 "nbformat": 4,
 "nbformat_minor": 5
}
